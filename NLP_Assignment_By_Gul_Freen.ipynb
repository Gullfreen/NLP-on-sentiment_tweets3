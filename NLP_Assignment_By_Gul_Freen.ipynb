{
 "cells": [
  {
   "cell_type": "markdown",
   "id": "8dfe6cb7",
   "metadata": {},
   "source": [
    "# NLP_Assignment_1"
   ]
  },
  {
   "cell_type": "code",
   "execution_count": 5,
   "id": "920865db",
   "metadata": {},
   "outputs": [
    {
     "data": {
      "text/html": [
       "<div>\n",
       "<style scoped>\n",
       "    .dataframe tbody tr th:only-of-type {\n",
       "        vertical-align: middle;\n",
       "    }\n",
       "\n",
       "    .dataframe tbody tr th {\n",
       "        vertical-align: top;\n",
       "    }\n",
       "\n",
       "    .dataframe thead th {\n",
       "        text-align: right;\n",
       "    }\n",
       "</style>\n",
       "<table border=\"1\" class=\"dataframe\">\n",
       "  <thead>\n",
       "    <tr style=\"text-align: right;\">\n",
       "      <th></th>\n",
       "      <th>Index</th>\n",
       "      <th>message to examine</th>\n",
       "      <th>label (depression result)</th>\n",
       "    </tr>\n",
       "  </thead>\n",
       "  <tbody>\n",
       "    <tr>\n",
       "      <th>0</th>\n",
       "      <td>106</td>\n",
       "      <td>just had a real good moment. i missssssssss hi...</td>\n",
       "      <td>0</td>\n",
       "    </tr>\n",
       "    <tr>\n",
       "      <th>1</th>\n",
       "      <td>217</td>\n",
       "      <td>is reading manga  http://plurk.com/p/mzp1e</td>\n",
       "      <td>0</td>\n",
       "    </tr>\n",
       "    <tr>\n",
       "      <th>2</th>\n",
       "      <td>220</td>\n",
       "      <td>@comeagainjen http://twitpic.com/2y2lx - http:...</td>\n",
       "      <td>0</td>\n",
       "    </tr>\n",
       "    <tr>\n",
       "      <th>3</th>\n",
       "      <td>288</td>\n",
       "      <td>@lapcat Need to send 'em to my accountant tomo...</td>\n",
       "      <td>0</td>\n",
       "    </tr>\n",
       "    <tr>\n",
       "      <th>4</th>\n",
       "      <td>540</td>\n",
       "      <td>ADD ME ON MYSPACE!!!  myspace.com/LookThunder</td>\n",
       "      <td>0</td>\n",
       "    </tr>\n",
       "  </tbody>\n",
       "</table>\n",
       "</div>"
      ],
      "text/plain": [
       "   Index                                 message to examine  \\\n",
       "0    106  just had a real good moment. i missssssssss hi...   \n",
       "1    217         is reading manga  http://plurk.com/p/mzp1e   \n",
       "2    220  @comeagainjen http://twitpic.com/2y2lx - http:...   \n",
       "3    288  @lapcat Need to send 'em to my accountant tomo...   \n",
       "4    540      ADD ME ON MYSPACE!!!  myspace.com/LookThunder   \n",
       "\n",
       "   label (depression result)  \n",
       "0                          0  \n",
       "1                          0  \n",
       "2                          0  \n",
       "3                          0  \n",
       "4                          0  "
      ]
     },
     "execution_count": 5,
     "metadata": {},
     "output_type": "execute_result"
    }
   ],
   "source": [
    "import pandas as pd\n",
    "import re\n",
    "\n",
    "# Load data\n",
    "tweets_df = pd.read_csv('C:\\\\Users\\\\A\\\\Downloads\\\\NLP_assignemt_data\\\\sentiment_tweets3.csv')\n",
    "\n",
    "tweets_df.head()"
   ]
  },
  {
   "cell_type": "markdown",
   "id": "2b4d4a95",
   "metadata": {},
   "source": [
    "# Removing Urls"
   ]
  },
  {
   "cell_type": "code",
   "execution_count": 14,
   "id": "be2dcc26",
   "metadata": {},
   "outputs": [
    {
     "name": "stdout",
     "output_type": "stream",
     "text": [
      "                                  message to examine  \\\n",
      "0  just had a real good moment. i missssssssss hi...   \n",
      "1         is reading manga  http://plurk.com/p/mzp1e   \n",
      "2  @comeagainjen http://twitpic.com/2y2lx - http:...   \n",
      "3  @lapcat Need to send 'em to my accountant tomo...   \n",
      "4      ADD ME ON MYSPACE!!!  myspace.com/LookThunder   \n",
      "\n",
      "                              cleaned_message_no_url  \n",
      "0  just had a real good moment. i missssssssss hi...  \n",
      "1                                 is reading manga    \n",
      "2                                 @comeagainjen  -    \n",
      "3  @lapcat Need to send 'em to my accountant tomo...  \n",
      "4      ADD ME ON MYSPACE!!!  myspace.com/LookThunder  \n"
     ]
    }
   ],
   "source": [
    "def remove_urls_v2(text):\n",
    "    url_pattern = r'http[s]?://(?:[a-zA-Z]|[0-9]|[$-_@.&+]|[!*\\\\(\\\\),]|(?:%[0-9a-fA-F][0-9a-fA-F]))+'\n",
    "    return re.sub(url_pattern, '', text)\n",
    "\n",
    "tweets_df['cleaned_message_no_url'] = tweets_df['message to examine'].apply(remove_urls_v2)\n",
    "\n",
    "print(tweets_df[['message to examine', 'cleaned_message_no_url']].head())\n"
   ]
  },
  {
   "cell_type": "markdown",
   "id": "848bc943",
   "metadata": {},
   "source": [
    "# Removing punctuations like., ! $( ) * % @"
   ]
  },
  {
   "cell_type": "code",
   "execution_count": 15,
   "id": "e29ffbbd",
   "metadata": {},
   "outputs": [
    {
     "data": {
      "text/html": [
       "<div>\n",
       "<style scoped>\n",
       "    .dataframe tbody tr th:only-of-type {\n",
       "        vertical-align: middle;\n",
       "    }\n",
       "\n",
       "    .dataframe tbody tr th {\n",
       "        vertical-align: top;\n",
       "    }\n",
       "\n",
       "    .dataframe thead th {\n",
       "        text-align: right;\n",
       "    }\n",
       "</style>\n",
       "<table border=\"1\" class=\"dataframe\">\n",
       "  <thead>\n",
       "    <tr style=\"text-align: right;\">\n",
       "      <th></th>\n",
       "      <th>message to examine</th>\n",
       "      <th>cleaned_message_direct</th>\n",
       "      <th>cleaned_message_no_punct</th>\n",
       "    </tr>\n",
       "  </thead>\n",
       "  <tbody>\n",
       "    <tr>\n",
       "      <th>0</th>\n",
       "      <td>just had a real good moment. i missssssssss hi...</td>\n",
       "      <td>just had a real good moment. i missssssssss hi...</td>\n",
       "      <td>just had a real good moment i missssssssss him...</td>\n",
       "    </tr>\n",
       "    <tr>\n",
       "      <th>1</th>\n",
       "      <td>is reading manga  http://plurk.com/p/mzp1e</td>\n",
       "      <td>is reading manga</td>\n",
       "      <td>is reading manga</td>\n",
       "    </tr>\n",
       "    <tr>\n",
       "      <th>2</th>\n",
       "      <td>@comeagainjen http://twitpic.com/2y2lx - http:...</td>\n",
       "      <td>@comeagainjen  -</td>\n",
       "      <td>comeagainjen  -</td>\n",
       "    </tr>\n",
       "    <tr>\n",
       "      <th>3</th>\n",
       "      <td>@lapcat Need to send 'em to my accountant tomo...</td>\n",
       "      <td>@lapcat Need to send 'em to my accountant tomo...</td>\n",
       "      <td>lapcat Need to send 'em to my accountant tomor...</td>\n",
       "    </tr>\n",
       "    <tr>\n",
       "      <th>4</th>\n",
       "      <td>ADD ME ON MYSPACE!!!  myspace.com/LookThunder</td>\n",
       "      <td>ADD ME ON MYSPACE!!!  myspace.com/LookThunder</td>\n",
       "      <td>ADD ME ON MYSPACE  myspacecom/LookThunder</td>\n",
       "    </tr>\n",
       "  </tbody>\n",
       "</table>\n",
       "</div>"
      ],
      "text/plain": [
       "                                  message to examine  \\\n",
       "0  just had a real good moment. i missssssssss hi...   \n",
       "1         is reading manga  http://plurk.com/p/mzp1e   \n",
       "2  @comeagainjen http://twitpic.com/2y2lx - http:...   \n",
       "3  @lapcat Need to send 'em to my accountant tomo...   \n",
       "4      ADD ME ON MYSPACE!!!  myspace.com/LookThunder   \n",
       "\n",
       "                              cleaned_message_direct  \\\n",
       "0  just had a real good moment. i missssssssss hi...   \n",
       "1                                 is reading manga     \n",
       "2                                 @comeagainjen  -     \n",
       "3  @lapcat Need to send 'em to my accountant tomo...   \n",
       "4      ADD ME ON MYSPACE!!!  myspace.com/LookThunder   \n",
       "\n",
       "                            cleaned_message_no_punct  \n",
       "0  just had a real good moment i missssssssss him...  \n",
       "1                                 is reading manga    \n",
       "2                                  comeagainjen  -    \n",
       "3  lapcat Need to send 'em to my accountant tomor...  \n",
       "4          ADD ME ON MYSPACE  myspacecom/LookThunder  "
      ]
     },
     "execution_count": 15,
     "metadata": {},
     "output_type": "execute_result"
    }
   ],
   "source": [
    "def remove_specific_punctuation(text):\n",
    "    specific_punctuation = \".,!$()*%@\"\n",
    "    translator = str.maketrans('', '', specific_punctuation)\n",
    "    return text.translate(translator)\n",
    "\n",
    "\n",
    "tweets_df['cleaned_message_no_punct'] = tweets_df['cleaned_message_direct'].apply(remove_specific_punctuation)\n",
    "\n",
    "tweets_df[['message to examine', 'cleaned_message_direct', 'cleaned_message_no_punct']].head()\n"
   ]
  },
  {
   "cell_type": "markdown",
   "id": "ffbaa4ac",
   "metadata": {},
   "source": [
    "#  Removing Stop words\n"
   ]
  },
  {
   "cell_type": "code",
   "execution_count": 16,
   "id": "8b647bcc",
   "metadata": {},
   "outputs": [
    {
     "name": "stderr",
     "output_type": "stream",
     "text": [
      "[nltk_data] Downloading package stopwords to\n",
      "[nltk_data]     C:\\Users\\A\\AppData\\Roaming\\nltk_data...\n",
      "[nltk_data]   Package stopwords is already up-to-date!\n",
      "[nltk_data] Downloading package punkt to\n",
      "[nltk_data]     C:\\Users\\A\\AppData\\Roaming\\nltk_data...\n",
      "[nltk_data]   Package punkt is already up-to-date!\n"
     ]
    },
    {
     "name": "stdout",
     "output_type": "stream",
     "text": [
      "                            cleaned_message_no_punct  \\\n",
      "0  just had a real good moment i missssssssss him...   \n",
      "1                                 is reading manga     \n",
      "2                                  comeagainjen  -     \n",
      "3  lapcat Need to send 'em to my accountant tomor...   \n",
      "4          ADD ME ON MYSPACE  myspacecom/LookThunder   \n",
      "\n",
      "                                message_no_stopwords  \n",
      "0                 real good moment missssssssss much  \n",
      "1                                      reading manga  \n",
      "2                                     comeagainjen -  \n",
      "3  lapcat Need send 'em accountant tomorrow Oddly...  \n",
      "4           ADD ME ON MYSPACE myspacecom/LookThunder  \n"
     ]
    }
   ],
   "source": [
    "import nltk\n",
    "from nltk.corpus import stopwords\n",
    "from nltk.tokenize import word_tokenize\n",
    "\n",
    "nltk.download('stopwords')\n",
    "nltk.download('punkt')\n",
    "\n",
    "stop_words = set(stopwords.words('english'))\n",
    "\n",
    "def remove_stop_words(text):\n",
    "    words = word_tokenize(text)\n",
    "    filtered_words = [word for word in words if word not in stop_words]\n",
    "    return ' '.join(filtered_words)\n",
    "\n",
    "tweets_df['message_no_stopwords'] = tweets_df['cleaned_message_no_punct'].apply(remove_stop_words)\n",
    "\n",
    "print(tweets_df[['cleaned_message_no_punct', 'message_no_stopwords']].head())\n"
   ]
  },
  {
   "cell_type": "markdown",
   "id": "048a0d1b",
   "metadata": {},
   "source": [
    "#  Lower casing\n"
   ]
  },
  {
   "cell_type": "code",
   "execution_count": 17,
   "id": "d7b87709",
   "metadata": {},
   "outputs": [
    {
     "name": "stdout",
     "output_type": "stream",
     "text": [
      "                                message_no_stopwords  \\\n",
      "0                 real good moment missssssssss much   \n",
      "1                                      reading manga   \n",
      "2                                     comeagainjen -   \n",
      "3  lapcat Need send 'em accountant tomorrow Oddly...   \n",
      "4           ADD ME ON MYSPACE myspacecom/LookThunder   \n",
      "\n",
      "                                       message_lower  \n",
      "0                 real good moment missssssssss much  \n",
      "1                                      reading manga  \n",
      "2                                     comeagainjen -  \n",
      "3  lapcat need send 'em accountant tomorrow oddly...  \n",
      "4           add me on myspace myspacecom/lookthunder  \n"
     ]
    }
   ],
   "source": [
    "# Lowercasing all the messages\n",
    "tweets_df['message_lower'] = tweets_df['message_no_stopwords'].str.lower()\n",
    "\n",
    "# Display the DataFrame to verify lowercasing\n",
    "print(tweets_df[['message_no_stopwords', 'message_lower']].head())\n"
   ]
  },
  {
   "cell_type": "markdown",
   "id": "cfc29625",
   "metadata": {},
   "source": [
    "# Tokenization\n"
   ]
  },
  {
   "cell_type": "code",
   "execution_count": 18,
   "id": "38e89d53",
   "metadata": {},
   "outputs": [
    {
     "name": "stdout",
     "output_type": "stream",
     "text": [
      "                                       message_lower  \\\n",
      "0                 real good moment missssssssss much   \n",
      "1                                      reading manga   \n",
      "2                                     comeagainjen -   \n",
      "3  lapcat need send 'em accountant tomorrow oddly...   \n",
      "4           add me on myspace myspacecom/lookthunder   \n",
      "\n",
      "                                      message_tokens  \n",
      "0           [real, good, moment, missssssssss, much]  \n",
      "1                                   [reading, manga]  \n",
      "2                                  [comeagainjen, -]  \n",
      "3  [lapcat, need, send, 'em, accountant, tomorrow...  \n",
      "4     [add, me, on, myspace, myspacecom/lookthunder]  \n"
     ]
    }
   ],
   "source": [
    "tweets_df['message_tokens'] = tweets_df['message_lower'].apply(word_tokenize)\n",
    "\n",
    "print(tweets_df[['message_lower', 'message_tokens']].head())\n"
   ]
  },
  {
   "cell_type": "markdown",
   "id": "b7cbe15a",
   "metadata": {},
   "source": [
    "# Stemming\n"
   ]
  },
  {
   "cell_type": "code",
   "execution_count": 22,
   "id": "cc865666",
   "metadata": {},
   "outputs": [
    {
     "name": "stdout",
     "output_type": "stream",
     "text": [
      "                                      message_tokens  \\\n",
      "0           [real, good, moment, missssssssss, much]   \n",
      "1                                   [reading, manga]   \n",
      "2                                  [comeagainjen, -]   \n",
      "3  [lapcat, need, send, 'em, accountant, tomorrow...   \n",
      "4     [add, me, on, myspace, myspacecom/lookthunder]   \n",
      "\n",
      "                                     message_stemmed  \n",
      "0           [real, good, moment, missssssssss, much]  \n",
      "1                                      [read, manga]  \n",
      "2                                  [comeagainjen, -]  \n",
      "3  [lapcat, need, send, 'em, account, tomorrow, o...  \n",
      "4        [add, me, on, myspac, myspacecom/lookthund]  \n"
     ]
    }
   ],
   "source": [
    "\n",
    "stemmer = PorterStemmer()\n",
    "\n",
    "def stem_words(words):\n",
    "    return [stemmer.stem(word) for word in words]\n",
    "\n",
    "tweets_df['message_stemmed'] = tweets_df['message_tokens'].apply(stem_words)\n",
    "\n",
    "print(tweets_df[['message_tokens', 'message_stemmed']].head())\n"
   ]
  },
  {
   "cell_type": "markdown",
   "id": "3a89abfd",
   "metadata": {},
   "source": [
    "# #Lemmatization\n"
   ]
  },
  {
   "cell_type": "code",
   "execution_count": 20,
   "id": "310753df",
   "metadata": {},
   "outputs": [
    {
     "name": "stderr",
     "output_type": "stream",
     "text": [
      "[nltk_data] Downloading package wordnet to\n",
      "[nltk_data]     C:\\Users\\A\\AppData\\Roaming\\nltk_data...\n",
      "[nltk_data]   Package wordnet is already up-to-date!\n"
     ]
    },
    {
     "name": "stdout",
     "output_type": "stream",
     "text": [
      "                                      message_tokens  \\\n",
      "0           [real, good, moment, missssssssss, much]   \n",
      "1                                   [reading, manga]   \n",
      "2                                  [comeagainjen, -]   \n",
      "3  [lapcat, need, send, 'em, accountant, tomorrow...   \n",
      "4     [add, me, on, myspace, myspacecom/lookthunder]   \n",
      "\n",
      "                                  message_lemmatized  \n",
      "0                   [real, good, moment, miss, much]  \n",
      "1                                   [reading, manga]  \n",
      "2                                  [comeagainjen, -]  \n",
      "3  [lapcat, need, send, 'em, accountant, tomorrow...  \n",
      "4     [add, me, on, myspace, myspacecom/lookthunder]  \n"
     ]
    }
   ],
   "source": [
    "from nltk.stem import WordNetLemmatizer\n",
    "\n",
    "# Ensure that NLTK's WordNet is downloaded\n",
    "nltk.download('wordnet')\n",
    "\n",
    "# Initialize the WordNet Lemmatizer\n",
    "lemmatizer = WordNetLemmatizer()\n",
    "\n",
    "# Function to apply lemmatization to a list of words\n",
    "def lemmatize_words(words):\n",
    "    return [lemmatizer.lemmatize(word) for word in words]\n",
    "\n",
    "# Applying lemmatization to the tokenized messages\n",
    "tweets_df['message_lemmatized'] = tweets_df['message_tokens'].apply(lemmatize_words)\n",
    "\n",
    "# Display the DataFrame to verify lemmatization\n",
    "print(tweets_df[['message_tokens', 'message_lemmatized']].head())\n"
   ]
  },
  {
   "cell_type": "markdown",
   "id": "7617ac2a",
   "metadata": {},
   "source": [
    "# #Sentence Segmentation"
   ]
  },
  {
   "cell_type": "code",
   "execution_count": 21,
   "id": "c3ff6d84",
   "metadata": {},
   "outputs": [
    {
     "name": "stdout",
     "output_type": "stream",
     "text": [
      "                                       message_lower  \\\n",
      "0                 real good moment missssssssss much   \n",
      "1                                      reading manga   \n",
      "2                                     comeagainjen -   \n",
      "3  lapcat need send 'em accountant tomorrow oddly...   \n",
      "4           add me on myspace myspacecom/lookthunder   \n",
      "\n",
      "                                   message_sentences  \n",
      "0               [real good moment missssssssss much]  \n",
      "1                                    [reading manga]  \n",
      "2                                   [comeagainjen -]  \n",
      "3  [lapcat need send 'em accountant tomorrow oddl...  \n",
      "4         [add me on myspace myspacecom/lookthunder]  \n"
     ]
    }
   ],
   "source": [
    "from nltk.tokenize import sent_tokenize\n",
    "\n",
    "# Function to segment text into sentences\n",
    "def segment_sentences(text):\n",
    "    return sent_tokenize(text)\n",
    "\n",
    "# Applying sentence segmentation to the lowercased messages\n",
    "tweets_df['message_sentences'] = tweets_df['message_lower'].apply(segment_sentences)\n",
    "\n",
    "# Display the DataFrame to verify sentence segmentation\n",
    "print(tweets_df[['message_lower', 'message_sentences']].head())\n"
   ]
  },
  {
   "cell_type": "code",
   "execution_count": null,
   "id": "75a9fd2d",
   "metadata": {},
   "outputs": [],
   "source": []
  }
 ],
 "metadata": {
  "kernelspec": {
   "display_name": "Python 3 (ipykernel)",
   "language": "python",
   "name": "python3"
  },
  "language_info": {
   "codemirror_mode": {
    "name": "ipython",
    "version": 3
   },
   "file_extension": ".py",
   "mimetype": "text/x-python",
   "name": "python",
   "nbconvert_exporter": "python",
   "pygments_lexer": "ipython3",
   "version": "3.11.4"
  }
 },
 "nbformat": 4,
 "nbformat_minor": 5
}
